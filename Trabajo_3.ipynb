{
  "nbformat": 4,
  "nbformat_minor": 0,
  "metadata": {
    "colab": {
      "provenance": [],
      "include_colab_link": true
    },
    "kernelspec": {
      "name": "python3",
      "display_name": "Python 3"
    },
    "language_info": {
      "name": "python"
    }
  },
  "cells": [
    {
      "cell_type": "markdown",
      "metadata": {
        "id": "view-in-github",
        "colab_type": "text"
      },
      "source": [
        "<a href=\"https://colab.research.google.com/github/DataMastersUN/FA_T3/blob/main/Trabajo_3.ipynb\" target=\"_parent\"><img src=\"https://colab.research.google.com/assets/colab-badge.svg\" alt=\"Open In Colab\"/></a>"
      ]
    },
    {
      "cell_type": "code",
      "source": [
        "import numpy as np\n",
        "import pickle\n",
        "import cv2\n",
        "import os\n",
        "import pandas as pd\n",
        "import matplotlib.pyplot as plt\n",
        "import matplotlib as mpl\n",
        "import seaborn as sns\n",
        "import math\n",
        "import os\n",
        "from PIL import Image\n",
        "from IPython.display import display"
      ],
      "metadata": {
        "id": "rZ9hTJjSRK5Z"
      },
      "execution_count": 1,
      "outputs": []
    },
    {
      "cell_type": "code",
      "source": [
        "from google.colab import drive\n",
        "drive.mount('/content/drive')"
      ],
      "metadata": {
        "colab": {
          "base_uri": "https://localhost:8080/"
        },
        "id": "tXa5EiUdGGyj",
        "outputId": "7e1c2a37-46eb-478c-da15-2a01a9205b4e"
      },
      "execution_count": 2,
      "outputs": [
        {
          "output_type": "stream",
          "name": "stdout",
          "text": [
            "Mounted at /content/drive\n"
          ]
        }
      ]
    },
    {
      "cell_type": "code",
      "source": [
        "#ancho, alto = imagen.size\n",
        "#print(f\"Tamaño de la imagen: {ancho}x{alto}\")\n",
        "\n",
        "# También puedes acceder a los píxeles de la imagen\n",
        "#pixeles = list(imagen.getdata())\n",
        "#print(f\"Primer píxel: {pixeles[0]}\")\n",
        "\n",
        "# Cierra la imagen\n",
        "#imagen.close()"
      ],
      "metadata": {
        "id": "Av3_qM-bGuov"
      },
      "execution_count": null,
      "outputs": []
    },
    {
      "cell_type": "code",
      "source": [
        "#CODIGO INICIAL PARA AÑADIR TODAS LAS IMAGENES A UN LISTA ESTÁTICA, Y ASÍ NO TENER QUE CARGAR TODAS LAS IMÁGENES CADA VEZ QUE SE EJECUTE EL CÓDGO\n",
        "\"\"\"\n",
        "# Ruta a la carpeta raíz que contiene las subcarpetas con las imágenes PGM\n",
        "ruta_raiz = '/content/drive/Shareddrives/FdeAnaliticaG4/Proyecto3/faces_4'\n",
        "rutas_imagenes = []\n",
        "# Recorre las subcarpetas y busca las imágenes PGM\n",
        "for directorio_raiz, directorios, archivos in os.walk(ruta_raiz):\n",
        "    for archivo in archivos:\n",
        "        if archivo.lower().endswith('.pgm'):\n",
        "            # Construye la ruta completa al archivo\n",
        "            ruta_completa = os.path.join(directorio_raiz, archivo)\n",
        "            rutas_imagenes.append(ruta_completa)\n",
        "# Ahora tienes todas las rutas de las imágenes PGM en la lista rutas_imagenes\n",
        "# Puedes cargar las imágenes si es necesario\n",
        "imagenes = [cv2.imread(ruta) for ruta in rutas_imagenes]\n",
        "\n",
        "# Para verificar la cantidad de imágenes\n",
        "print(f'Se encontraron {len(imagenes)} imágenes PGM.')\n",
        "\n",
        "# Para acceder a una imagen específica\n",
        "imagen_1 = imagenes[0]\"\"\""
      ],
      "metadata": {
        "id": "1sPXNUIsNdgx",
        "colab": {
          "base_uri": "https://localhost:8080/"
        },
        "outputId": "a3e7dd39-9138-434a-aa1e-555c34a4fe0e"
      },
      "execution_count": null,
      "outputs": [
        {
          "output_type": "stream",
          "name": "stdout",
          "text": [
            "Se encontraron 624 imágenes PGM.\n"
          ]
        }
      ]
    },
    {
      "cell_type": "code",
      "source": [
        "# Ruta en tu Google Drive donde guardar el archivo\n",
        "\"\"\"ruta_archivo = '/content/drive/Shareddrives/FdeAnaliticaG4/Proyecto3/imagenes.pkl'\n",
        "with open(ruta_archivo, 'wb') as archivo:\n",
        "    pickle.dump(imagenes, archivo)\"\"\""
      ],
      "metadata": {
        "id": "v2-2RVTeR5n5"
      },
      "execution_count": null,
      "outputs": []
    },
    {
      "cell_type": "code",
      "source": [
        "ruta_archivo = '/content/drive/Shareddrives/FdeAnaliticaG4/Proyecto3/imagenes.pkl'\n",
        "\n",
        "with open(ruta_archivo, 'rb') as archivo:\n",
        "    images = pickle.load(archivo)\n",
        "print(f'Se encontraron {len(images)} imágenes PGM.')"
      ],
      "metadata": {
        "colab": {
          "base_uri": "https://localhost:8080/"
        },
        "id": "DKeJCoBARRT-",
        "outputId": "c37892d8-0541-4aba-dd05-1885e43c9b25"
      },
      "execution_count": 4,
      "outputs": [
        {
          "output_type": "stream",
          "name": "stdout",
          "text": [
            "Se encontraron 624 imágenes PGM.\n"
          ]
        }
      ]
    },
    {
      "cell_type": "code",
      "source": [
        "images[45].shape"
      ],
      "metadata": {
        "colab": {
          "base_uri": "https://localhost:8080/"
        },
        "id": "Sy0idX-RVhkn",
        "outputId": "a49d7cb6-ca5d-492b-e803-f4eef4f1e889"
      },
      "execution_count": 11,
      "outputs": [
        {
          "output_type": "execute_result",
          "data": {
            "text/plain": [
              "(30, 32, 3)"
            ]
          },
          "metadata": {},
          "execution_count": 11
        }
      ]
    },
    {
      "cell_type": "code",
      "source": [
        "imagen = Image.open('/content/drive/Shareddrives/FdeAnaliticaG4/Proyecto3/faces_4/an2i/an2i_up_sad_sunglasses_4.pgm')\n",
        "\n",
        "plt.imshow(imagen, cmap = 'gray')\n",
        "plt.xticks([])\n",
        "plt.yticks([])\n",
        "plt.show()"
      ],
      "metadata": {
        "colab": {
          "base_uri": "https://localhost:8080/",
          "height": 406
        },
        "id": "FS8syEPxXNoM",
        "outputId": "0ac14aa6-f598-4256-fea7-1d4b9b5823b0"
      },
      "execution_count": 16,
      "outputs": [
        {
          "output_type": "display_data",
          "data": {
            "text/plain": [
              "<Figure size 640x480 with 1 Axes>"
            ],
            "image/png": "[encoded data removed]"
          },
          "metadata": {}
        }
      ]
    },
    {
      "cell_type": "code",
      "source": [
        "plt.imshow(images[134], cmap = 'gray')\n",
        "plt.xticks([])\n",
        "plt.yticks([])\n",
        "plt.show()"
      ],
      "metadata": {
        "colab": {
          "base_uri": "https://localhost:8080/",
          "height": 406
        },
        "id": "hOhvfERyWF1v",
        "outputId": "cb06450f-03d8-448f-f1b9-62802e4a8ad4"
      },
      "execution_count": 23,
      "outputs": [
        {
          "output_type": "display_data",
          "data": {
            "text/plain": [
              "<Figure size 640x480 with 1 Axes>"
            ],
            "image/png": "[encoded data removed]"
          },
          "metadata": {}
        }
      ]
    },
    {
      "cell_type": "code",
      "source": [
        "images[7].shape"
      ],
      "metadata": {
        "colab": {
          "base_uri": "https://localhost:8080/"
        },
        "id": "aKONEtsObMQH",
        "outputId": "d1149b33-d616-4543-c419-54643b626ab3"
      },
      "execution_count": 24,
      "outputs": [
        {
          "output_type": "execute_result",
          "data": {
            "text/plain": [
              "(30, 32, 3)"
            ]
          },
          "metadata": {},
          "execution_count": 24
        }
      ]
    },
    {
      "cell_type": "code",
      "source": [
        "imagen_prueba = cv2.cvtColor(images[134], cv2.COLOR_BGR2GRAY)\n",
        "imagen_prueba.shape"
      ],
      "metadata": {
        "colab": {
          "base_uri": "https://localhost:8080/"
        },
        "id": "qBkGuEd1dIn4",
        "outputId": "1534e43d-a639-4c59-a433-47773031a4c8"
      },
      "execution_count": 27,
      "outputs": [
        {
          "output_type": "execute_result",
          "data": {
            "text/plain": [
              "(30, 32)"
            ]
          },
          "metadata": {},
          "execution_count": 27
        }
      ]
    },
    {
      "cell_type": "code",
      "source": [
        "imagen_prueba"
      ],
      "metadata": {
        "colab": {
          "base_uri": "https://localhost:8080/"
        },
        "id": "5HikgELrf9mz",
        "outputId": "0ec8d3c5-e084-45ca-a3c5-138c5f2a9397"
      },
      "execution_count": 29,
      "outputs": [
        {
          "output_type": "execute_result",
          "data": {
            "text/plain": [
              "array([[ 48,  44,  41,  38,  35,  32,  29,  26,  23,   7,   5,   9,  14,\n",
              "          6,   0,   1,   0,   1,   5,  12,  20,  25,  28,  30,  33,  36,\n",
              "         38,  41,  43,  45,  47,  48],\n",
              "       [ 48,  45,  43,  40,  37,  34,  31,  28,  26,  20,  21,  21,  26,\n",
              "         20,  12,  14,  15,  23,  27,  29,  31,  33,  35,  38,  41,  43,\n",
              "         45,  46,  47,  47,  48,  48],\n",
              "       [ 49,  46,  43,  41,  38,  35,  33,  31,  29,  26,  29,  26,  31,\n",
              "         25,  21,  21,  28,  31,  32,  34,  36,  38,  41,  43,  44,  46,\n",
              "         47,  47,  47,  48,  48,  48],\n",
              "       [ 49,  46,  44,  42,  39,  37,  35,  33,  31,  29,  34,  28,  33,\n",
              "         30,  23,  22,  29,  34,  36,  37,  39,  40,  43,  44,  45,  46,\n",
              "         47,  48,  48,  49,  49,  48],\n",
              "       [ 49,  47,  45,  43,  40,  38,  36,  34,  32,  31,  36,  30,  32,\n",
              "         24,  10,   7,   9,  25,  37,  39,  40,  42,  43,  45,  47,  48,\n",
              "         48,  48,  48,  49,  49,  48],\n",
              "       [ 49,  47,  46,  44,  42,  39,  38,  36,  34,  33,  38,  34,  19,\n",
              "          3,   3,   5,   4,   9,  23,  40,  42,  44,  45,  47,  48,  49,\n",
              "         48,  49,  49,  49,  49,  49],\n",
              "       [ 49,  48,  46,  45,  43,  41,  39,  37,  36,  34,  40,  33,   6,\n",
              "          2,   1,   0,   1,   2,  10,  25,  42,  45,  46,  48,  49,  49,\n",
              "         49,  49,  49,  48,  49,  49],\n",
              "       [ 49,  48,  47,  45,  43,  42,  40,  38,  37,  36,  40,  21,   2,\n",
              "          7,  22,  37,  35,  20,   2,  14,  33,  45,  47,  48,  49,  49,\n",
              "         49,  49,  48,  49,  48,  47],\n",
              "       [ 49,  47,  47,  45,  44,  42,  41,  40,  38,  37,  35,   8,  16,\n",
              "         67,  94, 104,  95,  79,  24,   5,  29,  46,  47,  48,  48,  48,\n",
              "         48,  48,  48,  47,  47,  46],\n",
              "       [ 42,  49,  49,  46,  45,  44,  47,  42,  39,  38,  30,   8,  61,\n",
              "         97, 116, 120, 111,  97,  65,   9,  21,  47,  47,  48,  48,  49,\n",
              "         48,  48,  48,  47,  47,  46],\n",
              "       [ 45,  52,  46,  52,  39,  45,  40,  40,  40,  39,  20,  22,  76,\n",
              "        109, 130, 133, 131, 110,  79,  22,  14,  46,  47,  47,  48,  48,\n",
              "         47,  47,  48,  47,  46,  45],\n",
              "       [ 17,  29,   5,  22,   1,   5,  16,  17,  41,  39,  12,  29,  86,\n",
              "        116, 134, 139, 137, 121,  89,  30,  19,  46,  47,  47,  47,  47,\n",
              "         47,  48,  47,  46,  46,  46],\n",
              "       [  8,   5,   3,  20,   4,  13,  20,  18,  41,  40,  20,  28,  61,\n",
              "         65, 109, 145,  98,  58,  54,  38,  12,  45,  47,  47,  47,  47,\n",
              "         47,  48,  46,  42,  37,  33],\n",
              "       [ 13,   6,  49,  49,  28,  22,  38,  50,  41,  41,  29,  27,  56,\n",
              "         66,  61, 122,  75,  62,  73,  45,  31,  45,  44,  42,  36,  34,\n",
              "         32,  30,  28,  27,  32,  32],\n",
              "       [ 47,  58,  23,  35,  17,   8,  12,  38,  39,  40,  35,  40,  79,\n",
              "         77,  88, 108,  95,  95, 101,  63,  40,  33,  34,  32,  35,  41,\n",
              "         42,  42,  41,  31,  30,  38],\n",
              "       [ 22,  32,   6,  15,   3,  11,   2,  36,  32,  40,  30,  37, 103,\n",
              "        125, 106, 114, 108, 134, 120,  63,  57,  43,  34,  20,  37,  45,\n",
              "         44,  44,  42,  38,  20,  36],\n",
              "       [ 12,   7,  19,  24,   1,   9,   1,  34,  18,  41,  37,  32,  94,\n",
              "        141, 104, 128, 102, 147, 124,  47,  56,  46,  45,  33,  42,  45,\n",
              "         45,  44,  43,  40,  22,  35],\n",
              "       [ 16,   2,  51,  56,  35,  33,  25,  36,  27,  41,  42,  20,  70,\n",
              "        127,  95,  72,  88, 140,  97,  30,  47,  46,  45,  44,  45,  46,\n",
              "         45,  45,  44,  42,  23,  35],\n",
              "       [ 44,  50,  46,  42,  52,  43,  43,  42,  38,  42,  43,  20,  35,\n",
              "         74,  32,  51,  25,  44,  67,  14,  38,  44,  43,  45,  45,  45,\n",
              "         44,  43,  43,  42,  23,  35],\n",
              "       [ 40,  46,  21,   6,  22,  10,  18,  13,  10,  36,  44,  23,  11,\n",
              "         35,  69,  95,  90,  49,  35,   3,  24,  32,  12,  39,  44,  43,\n",
              "         42,  43,  42,  40,  22,  33],\n",
              "       [ 37,  41,  24,   3,  15,   7,  18,  10,   4,  31,  44,  32,   1,\n",
              "         14,  56,  21,  40,  32,   6,   2,  17,  32,  14,  34,  42,  18,\n",
              "         38,  41,  40,  38,  20,  32],\n",
              "       [  0,  32,  40,  35,  41,  44,  43,  49,  32,  35,  40,  38,   3,\n",
              "          2,  10,   8,   8,   5,   0,   4,  18,  32,  10,  33,  26,   1,\n",
              "         32,  41,  40,  38,  21,  32],\n",
              "       [  0,  29,  32,  16,  35,  40,  29,  43,  39,  38,  42,  33,   8,\n",
              "          1,   2,   1,   1,   1,  15,  13,  21,  36,  18,  34,   8,   0,\n",
              "         27,  41,  41,  39,  21,  31],\n",
              "       [  0,  25,  19,   0,  36,  16,   0,  35,  39,  38,  40,  26,  13,\n",
              "         52,  16,   1,   1,  30,  79,  16,  23,  30,  26,  18,   8,   0,\n",
              "         15,  39,  42,  40,  19,  27],\n",
              "       [  0,  23,  22,  14,  39,  22,   9,  31,  38,  38,  34,  24,  16,\n",
              "         70, 106,  92,  96, 119,  77,  22,  19,  17,  20,  23,  24,  17,\n",
              "         32,  46,  60,  55,  26,  16],\n",
              "       [  0,  21,  36,  40,  41,  17,  35,  35,  37,  22,  20,  21,  19,\n",
              "         38, 125, 128, 131, 123,  48,   9,  11,  18,  17,  23,  20,  35,\n",
              "         29,  38,  45,  40,  27,   2],\n",
              "       [ 15,  27,  31,  27,  28,  36,  35,  34,  37,  16,  18,   2,   6,\n",
              "         30,  92, 133, 129,  82,  34,  12,  10,  19,  39,  59,  46,  66,\n",
              "         45,  36,  36,  34,  24,   0],\n",
              "       [ 21,  29,  31,  30,  28,  28,  23,  40,  24,  17,  29,  39,  18,\n",
              "         20,  33, 104, 117,  42,  15,  23,  32,  25,  22,  25,  20,  39,\n",
              "         22,  18,  23,  34,  33,   0],\n",
              "       [ 32,  25,  32,  33,  30,  32,  43,  72,  46,  47,  21,  49,  20,\n",
              "         27,  22,  23,  39,  17,  31,  26,  54,  34,  24,  27,  23,  43,\n",
              "         29,  20,  17,  24,  37,   0],\n",
              "       [ 25,  17,  29,  29,  27,  35,  23,  40,  25,  23,  25,  63,  23,\n",
              "         32,  30,  15,  21,  22,  29,  23,  44,  27,  22,  24,  23,  40,\n",
              "         25,  23,  27,  22,  26,   0]], dtype=uint8)"
            ]
          },
          "metadata": {},
          "execution_count": 29
        }
      ]
    },
    {
      "cell_type": "markdown",
      "source": [
        "Representación de una matriz que describe los valores de los píxeles en una imagen en blanco y negro. Cada número en la matriz corresponde al valor del píxel en esa posición en la imagen.\n",
        "\n",
        "Los números en la matriz representan los niveles de gris de cada píxel en la imagen en blanco y negro.\n",
        "Los valores suelen estar en el rango de 0 a 255, donde 0 representa negro y 255 representa blanco, y los valores intermedios representan tonos de gris.\n",
        "La matriz se forma de tal manera que cada fila y columna representa un píxel en la imagen. Por ejemplo, el valor en la posición (0, 0) de la matriz representa el nivel de gris del píxel en la esquina superior izquierda de la imagen, y el valor en la posición (30, 32) representa el píxel en la esquina inferior derecha de la imagen.\n",
        "Esta matriz se utiliza para almacenar la información de intensidad de los píxeles en la imagen en blanco y negro. Puedes procesar y analizar esta matriz para realizar diversas operaciones en la imagen."
      ],
      "metadata": {
        "id": "1LEobMQ0gZ1F"
      }
    },
    {
      "cell_type": "code",
      "source": [
        "plt.imshow(imagen_prueba, cmap = 'gray')\n",
        "plt.xticks([])\n",
        "plt.yticks([])\n",
        "plt.show()"
      ],
      "metadata": {
        "colab": {
          "base_uri": "https://localhost:8080/",
          "height": 406
        },
        "id": "S7XH0M0LdSj8",
        "outputId": "ce72db9c-d847-4945-8028-53c41e355fde"
      },
      "execution_count": 28,
      "outputs": [
        {
          "output_type": "display_data",
          "data": {
            "text/plain": [
              "<Figure size 640x480 with 1 Axes>"
            ],
            "image/png": "[encoded data removed]"
          },
          "metadata": {}
        }
      ]
    },
    {
      "cell_type": "code",
      "source": [
        "for i in range(50):\n",
        "    plt.subplot(10,5,i+1)\n",
        "    plt.imshow(images[i])\n",
        "    plt.xticks([])\n",
        "    plt.yticks([])\n",
        "plt.show()"
      ],
      "metadata": {
        "colab": {
          "base_uri": "https://localhost:8080/",
          "height": 406
        },
        "id": "GBtWEFoFVH-m",
        "outputId": "61bdf35e-c693-44fc-c7ce-563e6ef6bf13"
      },
      "execution_count": 19,
      "outputs": [
        {
          "output_type": "display_data",
          "data": {
            "text/plain": [
              "<Figure size 640x480 with 50 Axes>"
            ],
            "image/png": "[encoded data removed]"
          },
          "metadata": {}
        }
      ]
    },
    {
      "cell_type": "code",
      "source": [
        "# Convirtamos las imágenes en vectores y luego construimos una matriz\n",
        "# con estos vectores como filas\n",
        "img_vectorizadas = [i.flatten() for i in images]\n",
        "imagenes_matriz = np.vstack(img_vectorizadas)\n",
        "imagenes_matriz = imagenes_matriz-imagenes_matriz.mean()\n",
        "print(imagenes_matriz.shape)"
      ],
      "metadata": {
        "id": "lMJwHTy0Q-cJ",
        "colab": {
          "base_uri": "https://localhost:8080/"
        },
        "outputId": "7cbb1f23-de01-447a-b733-e5fabd9cc3bc"
      },
      "execution_count": null,
      "outputs": [
        {
          "output_type": "stream",
          "name": "stdout",
          "text": [
            "(624, 2880)\n"
          ]
        }
      ]
    },
    {
      "cell_type": "markdown",
      "source": [
        "Esta función"
      ],
      "metadata": {
        "id": "_A2JZcTBb6UE"
      }
    },
    {
      "cell_type": "code",
      "source": [
        "# Calculemos la matriz de correlación:\n",
        "S = np.corrcoef(imagenes_matriz.T)\n",
        "print(S.shape)"
      ],
      "metadata": {
        "colab": {
          "base_uri": "https://localhost:8080/"
        },
        "id": "jZgt2nmSVTIk",
        "outputId": "8e33115f-cf5d-4f55-dc4f-9d043b6ac472"
      },
      "execution_count": null,
      "outputs": [
        {
          "output_type": "stream",
          "name": "stdout",
          "text": [
            "(2880, 2880)\n"
          ]
        }
      ]
    },
    {
      "cell_type": "code",
      "source": [
        "for i in range(2):\n",
        "    tipo = type(images[i])\n",
        "    print(f\"Elemento: {images[i]}, Tipo: {tipo}\\n\\n\")"
      ],
      "metadata": {
        "colab": {
          "base_uri": "https://localhost:8080/"
        },
        "id": "idVhymWkS-de",
        "outputId": "45de66df-06fb-4a12-8735-d7636ffea7f6"
      },
      "execution_count": 21,
      "outputs": [
        {
          "output_type": "stream",
          "name": "stdout",
          "text": [
            "Elemento: [[[39 39 39]\n",
            "  [38 38 38]\n",
            "  [36 36 36]\n",
            "  ...\n",
            "  [36 36 36]\n",
            "  [36 36 36]\n",
            "  [37 37 37]]\n",
            "\n",
            " [[39 39 39]\n",
            "  [37 37 37]\n",
            "  [36 36 36]\n",
            "  ...\n",
            "  [36 36 36]\n",
            "  [37 37 37]\n",
            "  [37 37 37]]\n",
            "\n",
            " [[39 39 39]\n",
            "  [38 38 38]\n",
            "  [37 37 37]\n",
            "  ...\n",
            "  [37 37 37]\n",
            "  [37 37 37]\n",
            "  [38 38 38]]\n",
            "\n",
            " ...\n",
            "\n",
            " [[28 28 28]\n",
            "  [30 30 30]\n",
            "  [29 29 29]\n",
            "  ...\n",
            "  [42 42 42]\n",
            "  [43 43 43]\n",
            "  [43 43 43]]\n",
            "\n",
            " [[ 5  5  5]\n",
            "  [20 20 20]\n",
            "  [27 27 27]\n",
            "  ...\n",
            "  [32 32 32]\n",
            "  [41 41 41]\n",
            "  [41 41 41]]\n",
            "\n",
            " [[17 17 17]\n",
            "  [20 20 20]\n",
            "  [31 31 31]\n",
            "  ...\n",
            "  [11 11 11]\n",
            "  [37 37 37]\n",
            "  [40 40 40]]], Tipo: <class 'numpy.ndarray'>\n",
            "\n",
            "\n",
            "Elemento: [[[35 35 35]\n",
            "  [34 34 34]\n",
            "  [32 32 32]\n",
            "  ...\n",
            "  [33 33 33]\n",
            "  [33 33 33]\n",
            "  [33 33 33]]\n",
            "\n",
            " [[36 36 36]\n",
            "  [34 34 34]\n",
            "  [33 33 33]\n",
            "  ...\n",
            "  [33 33 33]\n",
            "  [34 34 34]\n",
            "  [35 35 35]]\n",
            "\n",
            " [[37 37 37]\n",
            "  [35 35 35]\n",
            "  [34 34 34]\n",
            "  ...\n",
            "  [35 35 35]\n",
            "  [35 35 35]\n",
            "  [35 35 35]]\n",
            "\n",
            " ...\n",
            "\n",
            " [[16 16 16]\n",
            "  [22 22 22]\n",
            "  [25 25 25]\n",
            "  ...\n",
            "  [39 39 39]\n",
            "  [40 40 40]\n",
            "  [39 39 39]]\n",
            "\n",
            " [[ 3  3  3]\n",
            "  [15 15 15]\n",
            "  [23 23 23]\n",
            "  ...\n",
            "  [30 30 30]\n",
            "  [38 38 38]\n",
            "  [38 38 38]]\n",
            "\n",
            " [[ 8  8  8]\n",
            "  [13 13 13]\n",
            "  [26 26 26]\n",
            "  ...\n",
            "  [10 10 10]\n",
            "  [34 34 34]\n",
            "  [37 37 37]]], Tipo: <class 'numpy.ndarray'>\n",
            "\n",
            "\n"
          ]
        }
      ]
    }
  ]
}